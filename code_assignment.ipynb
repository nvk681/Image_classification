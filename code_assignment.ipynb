{
 "cells": [
  {
   "cell_type": "code",
   "execution_count": 2,
   "metadata": {},
   "outputs": [],
   "source": [
    "import random\n",
    "import numpy as np\n",
    "from data_process import get_CIFAR10_data\n",
    "from scipy.spatial import distance\n",
    "%matplotlib inline\n",
    "from save_submission import output_submission_csv\n",
    "import matplotlib.pyplot as plt\n",
    "import warnings\n",
    "\n"
   ]
  },
  {
   "cell_type": "markdown",
   "metadata": {},
   "source": [
    "# Loading CIFAR-10"
   ]
  },
  {
   "cell_type": "markdown",
   "metadata": {},
   "source": [
    "In the following cells we determine the number of images for each split and load the images.\n",
    "<br /> \n",
    "TRAIN_IMAGES + VAL_IMAGES = (0, 50000]\n",
    ", TEST_IMAGES = 10000"
   ]
  },
  {
   "cell_type": "code",
   "execution_count": 3,
   "metadata": {},
   "outputs": [],
   "source": [
    "# You can change these numbers for experimentation\n",
    "# For submission we will use the default values \n",
    "TRAIN_IMAGES = 40000\n",
    "VAL_IMAGES = 10000\n"
   ]
  },
  {
   "cell_type": "code",
   "execution_count": 4,
   "metadata": {},
   "outputs": [],
   "source": [
    "data = get_CIFAR10_data(TRAIN_IMAGES, VAL_IMAGES)\n",
    "X_train_CIFAR, y_train_CIFAR = data['X_train'], data['y_train']\n",
    "X_val_CIFAR, y_val_CIFAR = data['X_val'], data['y_val']\n",
    "X_test_CIFAR, y_test_CIFAR = data['X_test'], data['y_test']\n",
    "n_class_CIFAR = len(np.unique(y_test_CIFAR))\n",
    "list_of_classes = np.unique(y_test_CIFAR)\n",
    "#Code to preview the image \n",
    "#plt.imshow(data['X_train'][0][0, 0:32, 0:32])\n"
   ]
  },
  {
   "cell_type": "markdown",
   "metadata": {},
   "source": [
    "Convert the sets of images from dimensions of **(N, 3, 32, 32) -> (N, 3072)** where N is the number of images so that each **3x32x32** image is represented by a single vector."
   ]
  },
  {
   "cell_type": "code",
   "execution_count": 5,
   "metadata": {},
   "outputs": [],
   "source": [
    "X_train_CIFAR = np.reshape(X_train_CIFAR, (X_train_CIFAR.shape[0], -1))\n",
    "X_val_CIFAR = np.reshape(X_val_CIFAR, (X_val_CIFAR.shape[0], -1))\n",
    "X_test_CIFAR = np.reshape(X_test_CIFAR, (X_test_CIFAR.shape[0], -1))"
   ]
  },
  {
   "cell_type": "markdown",
   "metadata": {},
   "source": [
    "# Perceptron"
   ]
  },
  {
   "cell_type": "markdown",
   "metadata": {},
   "source": [
    "Perceptron has 2 hyperparameters that you can experiment with:\n",
    "- **Learning rate** - controls how much we change the current weights of the classifier during each update. We set it at a default value of 0.5, but you should experiment with different values. We recommend changing the learning rate by factors of 10 and observing how the performance of the classifier changes. You should also try adding a **decay** which slowly reduces the learning rate over each epoch.\n",
    "- **Number of Epochs** - An epoch is a complete iterative pass over all of the data in the dataset. During an epoch we predict a label using the classifier and then update the weights of the classifier according the perceptron update rule for each sample in the training set. You should try different values for the number of training epochs and report your results."
   ]
  },
  {
   "cell_type": "markdown",
   "metadata": {},
   "source": [
    "You will implement the Perceptron classifier in the **models/Perceptron.py**\n",
    "\n",
    "The following code: \n",
    "- Creates an instance of the Perceptron classifier class \n",
    "- The train function of the Perceptron class is trained on the training data\n",
    "- We use the predict function to find the training accuracy as well as the testing accuracy\n"
   ]
  },
  {
   "cell_type": "markdown",
   "metadata": {},
   "source": [
    "# Model Perceptron"
   ]
  },
  {
   "cell_type": "code",
   "execution_count": 6,
   "metadata": {},
   "outputs": [],
   "source": [
    "import numpy as np\n",
    "\n",
    "\n",
    "class Perceptron:\n",
    "    def __init__(self, n_class: int, lr: float, epochs: int):\n",
    "        \"\"\"Initialize a new classifier.\n",
    "        Parameters:\n",
    "            n_class: the number of classes\n",
    "            lr: the learning rate\n",
    "            epochs: the number of epochs to train for\n",
    "        \"\"\" \n",
    "        self.w = np.zeros((y_train_CIFAR.shape[0], X_train_CIFAR.shape[1])) ###### TODO: change this\n",
    "        self.lr = lr ###### TODO: change this\n",
    "        self.epochs = epochs ###### TODO: change this\n",
    "        self.n_class = n_class ###### TODO: change this\n",
    "        self.classes = list(range(10))\n",
    "\n",
    "    def train(self, X_train: np.ndarray, y_train: np.ndarray):\n",
    "        \"\"\"Train the classifier.\n",
    "        Use the perceptron update rule as introduced in Lecture 3.\n",
    "        Parameters:\n",
    "            X_train: a number array of shape (N, D) containing training data;\n",
    "                N examples with D dimensions\n",
    "            y_train: a numpy array of shape (N,) containing training labels\n",
    "        \"\"\"\n",
    "        # N, D = X_train.shape\n",
    "        # self.w = np.random.randn(self.n_class, D)\n",
    "        ###### YOUR CODE STARTS HERE ######\n",
    "        for _ in range(self.epochs):\n",
    "            for category, feature_dict in zip(y_train, X_train):\n",
    "                # Format feature values as a vector, with extra BIAS term.\n",
    "                feature_list = feature_dict\n",
    "                feature_vector = np.array(feature_list)\n",
    "\n",
    "                # Initialize arg_max value, predicted class.\n",
    "                arg_max, predicted_class = 0, self.classes[0]\n",
    "                # print(arg_max)\n",
    "                # Multi-Class Decision Rule:\n",
    "                for c in self.classes:\n",
    "                    current_activation = np.dot(feature_vector, self.w[c])\n",
    "                    if current_activation >= arg_max:\n",
    "                        arg_max, predicted_class = current_activation, c\n",
    "\n",
    "                # Update Rule:\n",
    "                if not (category == predicted_class):\n",
    "                    self.w[category] += self.lr*feature_vector\n",
    "                    self.w[predicted_class] -= self.lr*feature_vector\n",
    "        \n",
    "        ###### YOUR CODE ENDS HERE ######\n",
    "        pass\n",
    "\n",
    "    def predict(self, X_test: np.ndarray) -> np.ndarray:\n",
    "        \"\"\"Use the trained weights to predict labels for test data points.\n",
    "        Parameters:\n",
    "            X_test: a numpy array of shape (N, D) containing testing data;\n",
    "                N examples with D dimensions\n",
    "        Returns:\n",
    "            predicted labels for the data in X_test; a 1-dimensional array of\n",
    "                length N, where each element is an integer giving the predicted\n",
    "                class.\n",
    "        \"\"\"\n",
    "        N, D = X_test.shape\n",
    "        y_test = np.zeros(N)\n",
    "        # print(X_test.shape[0])\n",
    "        # print(len(y_test))\n",
    "        ###### YOUR CODE STARTS HERE ######\n",
    "        for i in range(X_test.shape[0]):\n",
    "            max = 0\n",
    "            for j in range(n_class_CIFAR):\n",
    "                predict = np.dot(self.w[j], X_test[i,:]) #Samplewise prediction\n",
    "                if predict > max:\n",
    "                    y_test[i] = j\n",
    "                    max = predict\n",
    "                    # break\n",
    "        ###### YOUR CODE ENDS HERE ######\n",
    "        return y_test"
   ]
  },
  {
   "cell_type": "markdown",
   "metadata": {},
   "source": [
    "## Train Perceptron on CIFAR"
   ]
  },
  {
   "cell_type": "code",
   "execution_count": 46,
   "metadata": {},
   "outputs": [],
   "source": [
    "lr = 0.2\n",
    "n_epochs = 10\n",
    "\n",
    "percept_CIFAR = Perceptron(n_class_CIFAR, lr, n_epochs)\n",
    "percept_CIFAR.train(X_train_CIFAR, y_train_CIFAR)"
   ]
  },
  {
   "cell_type": "code",
   "execution_count": 47,
   "metadata": {},
   "outputs": [
    {
     "name": "stdout",
     "output_type": "stream",
     "text": [
      "The training accuracy is given by: 0.308475\n"
     ]
    }
   ],
   "source": [
    "def get_acc(predictedclass,Y_val):\n",
    "    error = 0\n",
    "    numsamples = predictedclass.shape[0]\n",
    "    for i in range(numsamples):\n",
    "        predicted_class = predictedclass[i]\n",
    "        if Y_val[i] != predicted_class:\n",
    "             error+=1\n",
    "    return (1 - error/numsamples)\n",
    "\n",
    "\n",
    "pred_percept = percept_CIFAR.predict(X_train_CIFAR)\n",
    "print('The training accuracy is given by: %f' % (get_acc(pred_percept, y_train_CIFAR)))"
   ]
  },
  {
   "cell_type": "markdown",
   "metadata": {},
   "source": [
    "### Validate Perceptron on CIFAR"
   ]
  },
  {
   "cell_type": "code",
   "execution_count": 48,
   "metadata": {},
   "outputs": [
    {
     "name": "stdout",
     "output_type": "stream",
     "text": [
      "The validation accuracy is given by: 0.274400\n"
     ]
    }
   ],
   "source": [
    "pred_percept = percept_CIFAR.predict(X_val_CIFAR)\n",
    "print('The validation accuracy is given by: %f' % (get_acc(pred_percept, y_val_CIFAR)))"
   ]
  },
  {
   "cell_type": "markdown",
   "metadata": {},
   "source": [
    "### Test Perceptron on CIFAR"
   ]
  },
  {
   "cell_type": "code",
   "execution_count": 37,
   "metadata": {},
   "outputs": [
    {
     "name": "stdout",
     "output_type": "stream",
     "text": [
      "The testing accuracy is given by: 0.259600\n"
     ]
    }
   ],
   "source": [
    "pred_percept = percept_CIFAR.predict(X_test_CIFAR)\n",
    "print('The testing accuracy is given by: %f' % (get_acc(pred_percept, y_test_CIFAR)))"
   ]
  },
  {
   "cell_type": "code",
   "execution_count": 11,
   "metadata": {},
   "outputs": [],
   "source": [
    "output_submission_csv('output/Perceptron_submission_CIFAR.csv', percept_CIFAR.predict(X_test_CIFAR))"
   ]
  },
  {
   "cell_type": "markdown",
   "metadata": {},
   "source": [
    "# Logistic Classifier"
   ]
  },
  {
   "cell_type": "markdown",
   "metadata": {},
   "source": [
    "The Logistic Classifier has 2 hyperparameters that you can experiment with:\n",
    "- **Learning rate** - similar to as defined above in Perceptron, this parameter scales by how much the weights are changed according to the calculated gradient update. \n",
    "- **Number of Epochs** - As described for perceptron.\n",
    "\n"
   ]
  },
  {
   "cell_type": "markdown",
   "metadata": {},
   "source": [
    "You will implement the Logistic Classifier in the **models/Logistic.py**\n",
    "\n",
    "The following code: \n",
    "- Creates an instance of the Logistic classifier class \n",
    "- The train function of the Logistic class is trained on the training data\n",
    "- We use the predict function to find the training accuracy as well as the testing accuracy"
   ]
  },
  {
   "cell_type": "code",
   "execution_count": 12,
   "metadata": {},
   "outputs": [],
   "source": [
    "\"\"\"Logistic regression model.\"\"\"\n",
    "\n",
    "import numpy as np\n",
    "import math\n",
    "\n",
    "\n",
    "class Logistic:\n",
    "    def __init__(self, lr: float, epochs: int):\n",
    "        \"\"\"Initialize a new classifier.\n",
    "        Parameters:\n",
    "            lr: the learning rate\n",
    "            epochs: the number of epochs to train for\n",
    "        \"\"\"\n",
    "        self.w = np.zeros((y_train_CIFAR.shape[0], X_train_CIFAR.shape[1])) ###### \n",
    "        self.lr = lr###### TODO: change this\n",
    "        self.epochs = epochs###### TODO: change this\n",
    "        self.threshold = 0.3###### TODO: change this\n",
    "        self.b = 0\n",
    "\n",
    "    def sigmoid(self, z: np.ndarray) -> np.ndarray:\n",
    "        \"\"\"Sigmoid function.\n",
    "        Parameters:\n",
    "            z: the input\n",
    "        Returns:\n",
    "            the sigmoid of the input\n",
    "        \"\"\"\n",
    "        warnings.filterwarnings('ignore')\n",
    "        ##### YOUR CODE STARTS HERE #####\n",
    "        return 1.0/(1 + np.exp(-z))\n",
    "        ##### YOUR CODE ENDS HERE #####\n",
    "    \n",
    "    def loss(self, y, y_hat):\n",
    "        loss = -np.mean(y*(np.log(y_hat)) - (1-y)*np.log(1-y_hat))\n",
    "        return loss\n",
    "\n",
    "    def gradient_descent(self, X, y, theta, alpha, epochs):\n",
    "        m = len(X)\n",
    "        for i in range(0, epochs):\n",
    "            h = self.sigmoid(np.dot(X, theta))\n",
    "            # for i in range(0, len(X)):\n",
    "            theta -= (alpha/m) * np.sum((h-y)*X)\n",
    "        return theta\n",
    "\n",
    "    def train(self, X_train: np.ndarray, y_train: np.ndarray):\n",
    "        \"\"\"Train the classifier.\n",
    "        Use the logistic regression update rule as introduced in lecture.\n",
    "        Parameters:\n",
    "            X_train: a numpy array of shape (N, D) containing training data;\n",
    "                N examples with D dimensions\n",
    "            y_train: a numpy array of shape (N,) containing training labels\n",
    "        \"\"\"\n",
    "        N, D = X_train.shape\n",
    "\n",
    "        ##### YOUR CODE STARTS HERE #####    \n",
    "        # Initializing weights and bias to zeros.\n",
    "        self.w = np.random.randn(n_class_CIFAR, D)\n",
    "        for i in range(N):\n",
    "            self.w[y_train[i]] = self.gradient_descent(X_train[i], y_train[i], self.w[y_train[i]], self.lr, self.epochs)          \n",
    "        ##### YOUR CODE ENDS HERE #####\n",
    "\n",
    "    def predict(self, X_test: np.ndarray) -> np.ndarray:\n",
    "        \"\"\"Use the trained weights to predict labels for test data points.\n",
    "        Parameters:\n",
    "            X_test: a numpy array of shape (N, D) containing testing data;\n",
    "                N examples with D dimensions\n",
    "        Returns:\n",
    "            predicted labels for the data in X_test; a 1-dimensional array of\n",
    "                length N, where each element is an integer giving the predicted\n",
    "                class.\n",
    "        \"\"\"\n",
    "        ##### YOUR CODE STARTS HERE #####\n",
    "        predict = []\n",
    "        for i in range(len(X_test)):\n",
    "            h = []\n",
    "            class_now = 0\n",
    "            max_now = 0.5\n",
    "            for j in range(n_class_CIFAR):\n",
    "                h = self.sigmoid(np.dot(X_test[i], self.w[j] ))\n",
    "                if h >= max_now:\n",
    "                    class_now = j\n",
    "                    # predict.append(j)\n",
    "                    # break\n",
    "            # if len(predict) != i+1:\n",
    "            predict.append(class_now)\n",
    "        return predict\n",
    "        ##### YOUR CODE ENDS HERE #####\n"
   ]
  },
  {
   "cell_type": "markdown",
   "metadata": {},
   "source": [
    "### Training Logistic Classifer"
   ]
  },
  {
   "cell_type": "code",
   "execution_count": 58,
   "metadata": {},
   "outputs": [],
   "source": [
    "learning_rate = 0.2\n",
    "n_epochs = 15\n",
    "\n",
    "lr = Logistic(learning_rate, n_epochs)\n",
    "lr.train(X_train_CIFAR, y_train_CIFAR)"
   ]
  },
  {
   "cell_type": "code",
   "execution_count": 59,
   "metadata": {},
   "outputs": [
    {
     "name": "stdout",
     "output_type": "stream",
     "text": [
      "The training accuracy is given by: 0.105825\n"
     ]
    }
   ],
   "source": [
    "pred_lr = np.array(lr.predict(X_train_CIFAR))\n",
    "print('The training accuracy is given by: %f' % (get_acc(pred_lr, y_train_CIFAR)))"
   ]
  },
  {
   "cell_type": "markdown",
   "metadata": {},
   "source": [
    "### Validate Logistic Classifer"
   ]
  },
  {
   "cell_type": "code",
   "execution_count": 60,
   "metadata": {},
   "outputs": [
    {
     "name": "stdout",
     "output_type": "stream",
     "text": [
      "The validation accuracy is given by: 0.106900\n"
     ]
    }
   ],
   "source": [
    "pred_lr = np.array(lr.predict(X_val_CIFAR))\n",
    "print('The validation accuracy is given by: %f' % (get_acc(pred_lr, y_val_CIFAR)))"
   ]
  },
  {
   "cell_type": "markdown",
   "metadata": {},
   "source": [
    "### Test Logistic Classifier"
   ]
  },
  {
   "cell_type": "code",
   "execution_count": 16,
   "metadata": {},
   "outputs": [
    {
     "name": "stdout",
     "output_type": "stream",
     "text": [
      "The testing accuracy is given by: 0.108900\n"
     ]
    }
   ],
   "source": [
    "pred_lr = np.array(lr.predict(X_test_CIFAR))\n",
    "print('The testing accuracy is given by: %f' % (get_acc(pred_lr, y_test_CIFAR)))\n",
    "\n",
    "lr\n",
    "\n",
    "output_submission_csv('output/Logistic_submission_CIFAR.csv', lr.predict(X_test_CIFAR))"
   ]
  },
  {
   "cell_type": "markdown",
   "metadata": {},
   "source": [
    "D) Weights and Feature vector for both the model.\n"
   ]
  },
  {
   "cell_type": "code",
   "execution_count": 17,
   "metadata": {},
   "outputs": [
    {
     "name": "stdout",
     "output_type": "stream",
     "text": [
      "Weights for Perceptron\n",
      "[[  -41.5883     -85.12448  -1302.65336  ...   219.13122    255.2608\n",
      "   -779.03464 ]\n",
      " [  853.0508   -1038.99552   -373.13664  ...   330.11128    108.9392\n",
      "    188.82464 ]\n",
      " [  117.103925  1371.16448   1345.69586  ...  -307.550595 -1276.6608\n",
      "   -942.95786 ]\n",
      " ...\n",
      " [    0.           0.           0.       ...     0.           0.\n",
      "      0.      ]\n",
      " [    0.           0.           0.       ...     0.           0.\n",
      "      0.      ]\n",
      " [    0.           0.           0.       ...     0.           0.\n",
      "      0.      ]]\n",
      "Weights for Logistic Classifier\n",
      "[[ 1.64945160e+00 -4.40713009e-01 -7.22998973e-01 ... -6.14265035e-02\n",
      "  -1.90770204e+00 -3.44331859e-01]\n",
      " [ 5.95179961e-01 -2.42850057e-02 -9.74815725e-02 ... -4.98956454e-01\n",
      "  -1.85351824e-01 -7.00585170e-01]\n",
      " [-7.25095146e+01 -7.45673078e+01 -7.25316348e+01 ... -7.25233536e+01\n",
      "  -7.28615967e+01 -7.37853822e+01]\n",
      " ...\n",
      " [-1.14182237e+04 -1.14172437e+04 -1.14174503e+04 ... -1.14187791e+04\n",
      "  -1.14165100e+04 -1.14186146e+04]\n",
      " [ 3.40427004e+05  3.40428634e+05  3.40427276e+05 ...  3.40426201e+05\n",
      "   3.40427033e+05  3.40427852e+05]\n",
      " [ 8.45378363e+04  8.45386547e+04  8.45385163e+04 ...  8.45379611e+04\n",
      "   8.45389095e+04  8.45372422e+04]]\n"
     ]
    }
   ],
   "source": [
    "print(\"Weights for Perceptron\")\n",
    "print(percept_CIFAR.w)\n",
    "print(\"Weights for Logistic Classifier\")\n",
    "print(lr.w)"
   ]
  },
  {
   "cell_type": "markdown",
   "metadata": {},
   "source": [
    "The weights for Perceptron are having big values, and also there is a lot of variance between the weights for each model to predict. \n",
    "\n",
    "We know that both models minimize a spefic loss function. \n",
    "\n",
    "The Perceptron minimize the mean error, this model will create weights to create the best classification that is more inclined to keep the datapoints in the selected region for classification. \n",
    "\n",
    "\n",
    "The Logistic regression will minimize the loss function which exponential to the weights, so a small difference in the weight will be efficient to create classification of data points. "
   ]
  },
  {
   "cell_type": "markdown",
   "metadata": {},
   "source": [
    "F) BONUS"
   ]
  },
  {
   "cell_type": "markdown",
   "metadata": {},
   "source": [
    "Perceptron\n",
    "\n",
    "Based on different, epochs the accuracy changes as below."
   ]
  },
  {
   "cell_type": "code",
   "execution_count": 63,
   "metadata": {},
   "outputs": [
    {
     "data": {
      "image/png": "[encoded data removed]",
      "text/plain": [
       "<Figure size 432x288 with 1 Axes>"
      ]
     },
     "metadata": {
      "needs_background": "light"
     },
     "output_type": "display_data"
    }
   ],
   "source": [
    "epochs = [1, 5, 10, 15, 20, 25]\n",
    "accuracy = [28.2100, 26.4400, 27.4400, 26.7200, 26.6100, 25.9600]\n",
    "\n",
    "plt.plot(epochs, accuracy)\n",
    " \n",
    "plt.xlabel('Epochs')\n",
    "plt.ylabel('Accuracy')\n",
    "plt.title('Perceptron: Epochs to Accuracy plot')\n",
    " \n",
    "# function to show the plot\n",
    "plt.show()"
   ]
  },
  {
   "cell_type": "markdown",
   "metadata": {},
   "source": [
    "Logistic Classification\n",
    "\n",
    "Based on different, epochs the accuracy changes as below."
   ]
  },
  {
   "cell_type": "code",
   "execution_count": 62,
   "metadata": {},
   "outputs": [
    {
     "data": {
      "image/png": "[encoded data removed]",
      "text/plain": [
       "<Figure size 432x288 with 1 Axes>"
      ]
     },
     "metadata": {
      "needs_background": "light"
     },
     "output_type": "display_data"
    }
   ],
   "source": [
    "epochs = [1, 5, 10, 15, 20, 25]\n",
    "accuracy = [10.4300, 10.5600, 10.6900, 10.6900, 10.100, 10.69]\n",
    "\n",
    "plt.plot(epochs, accuracy)\n",
    " \n",
    "plt.xlabel('Epochs')\n",
    "plt.ylabel('Accuracy')\n",
    "plt.title('Logistic Classification: Epochs to Accuracy plot')\n",
    " \n",
    "# function to show the plot\n",
    "plt.show()"
   ]
  }
 ],
 "metadata": {
  "kernelspec": {
   "display_name": "Python 3",
   "language": "python",
   "name": "python3"
  },
  "language_info": {
   "codemirror_mode": {
    "name": "ipython",
    "version": 3
   },
   "file_extension": ".py",
   "mimetype": "text/x-python",
   "name": "python",
   "nbconvert_exporter": "python",
   "pygments_lexer": "ipython3",
   "version": "3.8.9"
  }
 },
 "nbformat": 4,
 "nbformat_minor": 1
}
